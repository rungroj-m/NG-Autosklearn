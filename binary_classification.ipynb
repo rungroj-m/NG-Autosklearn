{
 "cells": [
  {
   "cell_type": "code",
   "execution_count": 3,
   "metadata": {
    "ExecuteTime": {
     "end_time": "2021-01-06T08:05:14.166615Z",
     "start_time": "2021-01-06T08:05:14.142403Z"
    }
   },
   "outputs": [],
   "source": [
    "from sklearn.model_selection import StratifiedKFold\n",
    "from sklearn.metrics import classification_report, confusion_matrix, roc_auc_score\n",
    "from sklearn.feature_extraction.text import CountVectorizer\n",
    "\n",
    "import numpy as np\n",
    "import pandas as pd\n",
    "import csv\n",
    "import autosklearn.classification\n",
    "import re\n",
    "import os\n",
    "\n",
    "class BinaryClassification:\n",
    "    \n",
    "    N_GRAM_LENGTH = 10\n",
    "    \n",
    "    def __init__(self, folder):\n",
    "        self.folder = folder\n",
    "        os.makedirs(folder, exist_ok=True)  # succeeds even if directory exists.\n",
    "    \n",
    "    def data(self, filename):\n",
    "        self.df = pd.read_csv(filename)\n",
    "\n",
    "    def set_n_gram(self, filename):\n",
    "        n_grams = list()\n",
    "        with open(filename) as csvfile:\n",
    "            reader = csv.reader(csvfile, delimiter='\\t', quotechar='|')\n",
    "            for row in reader:\n",
    "                n_grams.append(row[5].strip())\n",
    "        self.n_grams = n_grams\n",
    "        \n",
    "    def vectorization(self, comment):\n",
    "        lens = [len(x.split()) for x in self.n_grams]\n",
    "        mn, mx = (min(lens), max(lens))\n",
    "        vect = CountVectorizer(vocabulary=self.n_grams, ngram_range=(mn, mx))\n",
    "        return vect.fit_transform(comment)\n",
    "                                            \n",
    "    def ten_fold(self,X,y):\n",
    "        sss = StratifiedKFold(n_splits=10,shuffle=True,random_state=1)\n",
    "        runner = 0\n",
    "        print(sss)\n",
    "        roc_auc_list = list()\n",
    "        for train_index, test_index in sss.split(X,y):\n",
    "            X_train, X_test = X[train_index], X[test_index]\n",
    "            y_train, y_test = y[train_index], y[test_index]\n",
    "            y_test_class = (np.unique(y_test))\n",
    "            \n",
    "            automl = autosklearn.classification.AutoSklearnClassifier(\n",
    "                memory_limit=1024*32, time_left_for_this_task = 30 * 60, metric=autosklearn.metrics.f1_weighted\n",
    "            )\n",
    "\n",
    "            automl.fit(X_train.copy(), y_train.copy())\n",
    "            automl.refit(X_train.copy(), y_train.copy())\n",
    "            y_hat = automl.predict(X_test)\n",
    "            predict_proba = automl.predict_proba(X_test)\n",
    "            roc_auc = roc_auc_score(y_test, predict_proba ,average='weighted',multi_class='ovr',labels=y_test_class)\n",
    "            log = automl.cv_results_\n",
    "            with open(folder+\"/\"+str(runner)+\".log\",\"w\") as file:\n",
    "                file.write(\"log for \"+str(runner)+\"\\n\")\n",
    "                file.write(str(log)+\"\\n\")\n",
    "\n",
    "            roc_auc_list.append(roc_auc)\n",
    "            print(\"round:\",runner,\"Classification report\", classification_report(y_test, y_hat))\n",
    "            print(\"round:\",runner,\"ROC_AUC\", roc_auc)\n",
    "            print(\"round:\",runner,\"Confusion matrix\", confusion_matrix(y_test, y_hat))\n",
    "            print(\"show_models\",automl.show_models())\n",
    "            print(\"sprint_statistics\",automl.sprint_statistics())    \n",
    "\n",
    "            for i in range(len(y_test)):\n",
    "                if y_test[i] != y_hat[i]:\n",
    "                    print(\"round:\",runner,\"comment index:\",test_index[i],\"y_test:\",y_test[i],\"y_hat\",y_hat[i])\n",
    "\n",
    "            runner += 1\n",
    "        print(\"roc_auc_list\",roc_auc_list)"
   ]
  },
  {
   "cell_type": "code",
   "execution_count": null,
   "metadata": {},
   "outputs": [],
   "source": []
  }
 ],
 "metadata": {
  "kernelspec": {
   "display_name": "Python 3",
   "language": "python",
   "name": "python3"
  },
  "language_info": {
   "codemirror_mode": {
    "name": "ipython",
    "version": 3
   },
   "file_extension": ".py",
   "mimetype": "text/x-python",
   "name": "python",
   "nbconvert_exporter": "python",
   "pygments_lexer": "ipython3",
   "version": "3.8.3"
  }
 },
 "nbformat": 4,
 "nbformat_minor": 4
}
