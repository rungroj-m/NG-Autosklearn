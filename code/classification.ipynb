{
 "cells": [
  {
   "cell_type": "code",
   "execution_count": 4,
   "metadata": {
    "ExecuteTime": {
     "end_time": "2021-06-16T08:21:38.314702Z",
     "start_time": "2021-06-16T08:21:38.302055Z"
    }
   },
   "outputs": [],
   "source": [
    "from sklearn.model_selection import StratifiedKFold\n",
    "from sklearn.metrics import classification_report, confusion_matrix, roc_auc_score\n",
    "from sklearn.feature_extraction.text import CountVectorizer\n",
    "\n",
    "import numpy as np\n",
    "import pandas as pd\n",
    "import csv\n",
    "import autosklearn.classification\n",
    "\n",
    "class Classification:\n",
    "    \n",
    "    def set_n_gram(self, filename):\n",
    "        n_grams = list()\n",
    "        with open(filename) as csvfile:\n",
    "            reader = csv.reader(csvfile, delimiter='\\t', quotechar='|')\n",
    "            for row in reader:\n",
    "                n_grams.append(row[5].strip())\n",
    "        self.n_grams = n_grams\n",
    "        \n",
    "    def vectorization(self, comment):\n",
    "        lens = [len(x.split()) for x in self.n_grams]\n",
    "        mn, mx = (min(lens), max(lens))\n",
    "        self.vect = CountVectorizer(vocabulary=self.n_grams, ngram_range=(mn, mx))\n",
    "        return self.vect.fit_transform(comment)\n",
    "                                            \n",
    "    def ten_fold(self,X,y):\n",
    "        sss = StratifiedKFold(n_splits=10,shuffle=True,random_state=1)\n",
    "        print(sss)\n",
    "        runner = 0\n",
    "        for train_index, test_index in sss.split(X,y):\n",
    "\n",
    "            X_train, X_test = X[train_index], X[test_index]\n",
    "            y_train, y_test = y[train_index], y[test_index]\n",
    "            y_test_class = (np.unique(y_test))\n",
    "            automl = autosklearn.classification.AutoSklearnClassifier(\n",
    "                memory_limit=1024*32, time_left_for_this_task = 30*60, metric=autosklearn.metrics.f1_weighted\n",
    "            )\n",
    "\n",
    "            automl.fit(X_train.copy(), y_train.copy())\n",
    "            automl.refit(X_train.copy(), y_train.copy())\n",
    "            y_hat = automl.predict(X_test)\n",
    "            predict_proba = automl.predict_proba(X_test)\n",
    "            \n",
    "            if len(np.unique(y)) == 2: # binary class\n",
    "                roc_auc = roc_auc_score(y_test,predict_proba[:,1])\n",
    "            else: # multi class\n",
    "                roc_auc = roc_auc_score(y_test, predict_proba ,average='weighted',multi_class='ovr',labels=y_test_class)\n",
    "                \n",
    "            print(\"round:\",runner,\"Classification report\", classification_report(y_test, y_hat))\n",
    "            print(\"round:\",runner,\"ROC AUC\", roc_auc)\n",
    "            print(\"round:\",runner,\"Confusion matrix\", confusion_matrix(y_test, y_hat))\n",
    "            print(\"show_models\",automl.show_models())\n",
    "            print(\"sprint_statistics\",automl.sprint_statistics())\n",
    "            runner += 1\n",
    "            \n",
    "    def important_feature(self,X,y):\n",
    "        # for each class\n",
    "        feature_len = X.shape[1]\n",
    "        y_class = np.unique(y)\n",
    "        word_list = self.vect.get_feature_names()\n",
    "\n",
    "        result = dict()\n",
    "        for number in y_class:\n",
    "            interest_y = np.where(y == number)\n",
    "            interest_x = X[interest_y]\n",
    "            count_list = interest_x.sum(axis=0).tolist()[0]            \n",
    "            word_count = dict((k, v) for k, v in dict(zip(word_list, count_list)).items() if v > 2)\n",
    "            result[number] = dict(sorted(word_count.items(), key=lambda item: item[1], reverse = True))\n",
    "\n",
    "        return result"
   ]
  },
  {
   "cell_type": "code",
   "execution_count": null,
   "metadata": {},
   "outputs": [],
   "source": []
  }
 ],
 "metadata": {
  "kernelspec": {
   "display_name": "Python 3",
   "language": "python",
   "name": "python3"
  },
  "language_info": {
   "codemirror_mode": {
    "name": "ipython",
    "version": 3
   },
   "file_extension": ".py",
   "mimetype": "text/x-python",
   "name": "python",
   "nbconvert_exporter": "python",
   "pygments_lexer": "ipython3",
   "version": "3.8.8"
  }
 },
 "nbformat": 4,
 "nbformat_minor": 4
}
