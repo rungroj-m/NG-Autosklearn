{
 "cells": [
  {
   "cell_type": "markdown",
   "metadata": {},
   "source": [
    "# load library "
   ]
  },
  {
   "cell_type": "code",
   "execution_count": 9,
   "metadata": {
    "ExecuteTime": {
     "end_time": "2021-01-04T08:09:26.834646Z",
     "start_time": "2021-01-04T08:09:26.817916Z"
    },
    "code_folding": []
   },
   "outputs": [],
   "source": [
    "from subprocess import call\n",
    "\n",
    "import re\n",
    "import spacy\n",
    "import tempfile\n",
    "import csv\n",
    "import shutil\n",
    "\n",
    "class Preprocessing:\n",
    "    def __init__(self):        \n",
    "        self.nlp = spacy.load('en_core_web_md')\n",
    "        \n",
    "    def lemmatization(self,comment):\n",
    "        lemma_comment = []\n",
    "        doc = self.nlp(comment)\n",
    "        for token in doc:\n",
    "            lemma_word = token.lemma_\n",
    "            if(lemma_word == \"-PRON-\"):\n",
    "                lemma_word = \"pron\"\n",
    "            lemma_comment.append(lemma_word.lower())\n",
    "        comment_out = ' '.join(lemma_comment)\n",
    "        comment_out = re.sub(r'[^A-Za-z0-9]+','   ', comment_out, flags=re.IGNORECASE)\n",
    "        comment_out = re.sub(r'\\s+',' ',comment_out)\n",
    "        return comment_out\n",
    "    \n",
    "    def special_character_removal(self,comment):\n",
    "        try:\n",
    "            comment = re.sub(r'[^A-Za-z0-9.\\']+',' ',comment)\n",
    "            comment = re.sub(r'\\s+',' ',comment)\n",
    "        finally:\n",
    "            return comment\n",
    "    \n",
    "    def create_n_gram(self,comments,labels,ngweight_folder,n_gram_file_output):\n",
    "        temp_folder = tempfile.mkdtemp()\n",
    "        temp = open(temp_folder + '/n_gram_preparation' ,'w')\n",
    "        for index in range(len(comments)):\n",
    "            if labels[index] != 0:\n",
    "                temp.write(chr(0x02)+chr(0x03)+\"\\n\")\n",
    "                temp.write(comments[index]+\"\\n\")\n",
    "        temp.close()\n",
    "        \n",
    "        call(ngweight_folder+\"/waf\",shell=True)\n",
    "        call(ngweight_folder+\"/bin/default/ngweight -w -s 0 < \"+ str(temp.name) + '>' + temp_folder + '/n_gram' ,shell=True)\n",
    "        \n",
    "        n_gram_filter = list()\n",
    "        \n",
    "        with open(temp_folder + '/n_gram') as csvfile:                    \n",
    "            reader = csv.reader(csvfile, delimiter='\\t', quotechar='|')\n",
    "            for row in reader:\n",
    "                if int(row[3]) <= 1:\n",
    "                    continue\n",
    "                n_gram_filter.append(row)\n",
    "\n",
    "        with open(n_gram_file_output,'w') as csvfile:\n",
    "            writer = csv.writer(csvfile,delimiter='\\t', quotechar='|')\n",
    "            writer.writerows(n_gram_filter)\n",
    "                \n",
    "        # delete file\n",
    "        shutil.rmtree(temp_folder)\n",
    "        "
   ]
  },
  {
   "cell_type": "code",
   "execution_count": null,
   "metadata": {},
   "outputs": [],
   "source": []
  }
 ],
 "metadata": {
  "kernelspec": {
   "display_name": "Python 3",
   "language": "python",
   "name": "python3"
  },
  "language_info": {
   "codemirror_mode": {
    "name": "ipython",
    "version": 3
   },
   "file_extension": ".py",
   "mimetype": "text/x-python",
   "name": "python",
   "nbconvert_exporter": "python",
   "pygments_lexer": "ipython3",
   "version": "3.8.3"
  }
 },
 "nbformat": 4,
 "nbformat_minor": 2
}
