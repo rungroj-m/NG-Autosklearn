{
 "cells": [
  {
   "cell_type": "markdown",
   "metadata": {},
   "source": [
    "# load library "
   ]
  },
  {
   "cell_type": "code",
   "execution_count": 1,
   "metadata": {
    "ExecuteTime": {
     "end_time": "2021-05-24T07:13:36.488865Z",
     "start_time": "2021-05-24T07:13:36.477471Z"
    },
    "code_folding": []
   },
   "outputs": [
    {
     "ename": "IndentationError",
     "evalue": "unexpected indent (<ipython-input-1-47737cb2edea>, line 53)",
     "output_type": "error",
     "traceback": [
      "\u001b[0;36m  File \u001b[0;32m\"<ipython-input-1-47737cb2edea>\"\u001b[0;36m, line \u001b[0;32m53\u001b[0m\n\u001b[0;31m    comment\u001b[0m\n\u001b[0m    ^\u001b[0m\n\u001b[0;31mIndentationError\u001b[0m\u001b[0;31m:\u001b[0m unexpected indent\n"
     ]
    }
   ],
   "source": [
    "#!/usr/bin/env python\n",
    "# coding: utf-8\n",
    "\n",
    "# # load library \n",
    "\n",
    "# In[9]:\n",
    "\n",
    "\n",
    "from subprocess import call\n",
    "from spacy.lang.en import English\n",
    "from cleantext import clean\n",
    "\n",
    "import nltk\n",
    "from nltk.corpus import stopwords\n",
    "from nltk.tokenize import word_tokenize\n",
    "\n",
    "import re\n",
    "import spacy\n",
    "import tempfile\n",
    "import csv\n",
    "import shutil\n",
    "\n",
    "class Preprocessing:\n",
    "    def __init__(self):        \n",
    "        self.nlp = spacy.load('en_core_web_md')\n",
    "        self.nlp2 = English()\n",
    "        self.stop_words = set(stopwords.words('english'))\n",
    "    \n",
    "    def lemmatization2(self,comment):\n",
    "        token = self.nlp2(comment)\n",
    "        tokens_text = ['pron' if t.text == '-PRON-' else t.text.lower() for t in token]\n",
    "        comment_out = re.sub(r'[^A-Za-z0-9]+',' ', ' '.join(tokens_text), flags=re.IGNORECASE)\n",
    "        comment_out = re.sub(r'\\s+',' ',comment_out)\n",
    "        return comment_out\n",
    "    \n",
    "    def lemmatization(self,comment):\n",
    "        lemma_comment = []\n",
    "        doc = self.nlp(comment)\n",
    "        for token in doc:\n",
    "            lemma_word = token.lemma_\n",
    "            if(lemma_word == \"-PRON-\"):\n",
    "                lemma_word = \"pron\"\n",
    "            lemma_comment.append(lemma_word.lower())\n",
    "        comment_out = ' '.join(lemma_comment)\n",
    "        comment_out = re.sub(r'[^A-Za-z0-9]+',' ', comment_out, flags=re.IGNORECASE)\n",
    "        comment_out = re.sub(r'\\s+',' ',comment_out)\n",
    "        return comment_out\n",
    "    \n",
    "    def stop_word_removal(self, comment):\n",
    "        word_tokens = word_tokenize(comment)\n",
    "        filtered_sentence = [w for w in word_tokens if not w.lower() in self.stop_words]\n",
    "        return ' '.join(filtered_sentence)\n",
    "    \n",
    "    def clean_text(self, comment):\n",
    "        return clean(comment, \n",
    "              fix_unicode=True,\n",
    "              to_ascii=True,\n",
    "              no_line_breaks=True,\n",
    "              no_urls=True, \n",
    "              no_numbers=True, \n",
    "              no_digits=True, \n",
    "              no_currency_symbols=True, \n",
    "              no_punct=True, \n",
    "              replace_with_punct=\" \", \n",
    "              replace_with_url=\"URL\", \n",
    "              replace_with_number=\"NUMBER\", \n",
    "              replace_with_digit=\"\", \n",
    "              replace_with_currency_symbol=\"CUR\",\n",
    "              lang='en'\n",
    "             )\n",
    "            \n",
    "    def special_character_removal(self,comment):\n",
    "        try:\n",
    "            comment = re.sub(r'[^A-Za-z0-9.\\']+',' ',comment)\n",
    "            comment = re.sub(r'\\s+',' ',comment)\n",
    "        finally:\n",
    "            return comment\n",
    "    \n",
    "    # create n-gram using library ngweight with default setting\n",
    "    # the n-gram only create from postive class\n",
    "    def create_n_gram(self,comments,labels,ngweight_folder,n_gram_file_output):\n",
    "        temp_folder = tempfile.mkdtemp()\n",
    "        temp = open(temp_folder + '/n_gram_preparation' ,'w')\n",
    "        for index in range(len(comments)):\n",
    "            if labels[index] != 0:\n",
    "                temp.write(chr(0x02)+chr(0x03)+\"\\n\")\n",
    "                temp.write(str(comments[index])+\"\\n\")\n",
    "        temp.close()\n",
    "        \n",
    "        call(ngweight_folder+\"/waf\",shell=True)\n",
    "        call(ngweight_folder+\"/bin/default/ngweight -w -s 0 < \"+ str(temp.name) + '>' + temp_folder + '/n_gram' ,shell=True)\n",
    "        \n",
    "        n_gram_filter = list()\n",
    "        \n",
    "        with open(temp_folder + '/n_gram') as csvfile:                    \n",
    "            reader = csv.reader(csvfile, delimiter='\\t', quotechar='|')\n",
    "            for row in reader:\n",
    "                if int(row[3]) <= 1:\n",
    "                    continue\n",
    "                n_gram_filter.append(row)\n",
    "\n",
    "        with open(n_gram_file_output,'w') as csvfile:\n",
    "            writer = csv.writer(csvfile,delimiter='\\t', quotechar='|')\n",
    "            writer.writerows(n_gram_filter)\n",
    "                \n",
    "        # delete file\n",
    "        shutil.rmtree(temp_folder)"
   ]
  },
  {
   "cell_type": "code",
   "execution_count": null,
   "metadata": {},
   "outputs": [],
   "source": []
  }
 ],
 "metadata": {
  "kernelspec": {
   "display_name": "Python 3",
   "language": "python",
   "name": "python3"
  },
  "language_info": {
   "codemirror_mode": {
    "name": "ipython",
    "version": 3
   },
   "file_extension": ".py",
   "mimetype": "text/x-python",
   "name": "python",
   "nbconvert_exporter": "python",
   "pygments_lexer": "ipython3",
   "version": "3.8.8"
  }
 },
 "nbformat": 4,
 "nbformat_minor": 2
}
