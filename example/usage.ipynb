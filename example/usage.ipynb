{
 "cells": [
  {
   "cell_type": "markdown",
   "metadata": {},
   "source": [
    "## Example of preprocessing usage"
   ]
  },
  {
   "cell_type": "code",
   "execution_count": null,
   "metadata": {
    "ExecuteTime": {
     "end_time": "2021-01-07T09:12:58.642707Z",
     "start_time": "2021-01-07T09:12:53.334137Z"
    }
   },
   "outputs": [],
   "source": [
    "# import dataset and initialize\n",
    "\n",
    "%run ../code/preprocessing.ipynb\n",
    "\n",
    "import pandas as pd\n",
    "\n",
    "df = pd.read_csv('dataset/Sample of removed SATD comments - RQ2.csv')\n",
    "prep = Preprocessing()\n",
    "df['On-hold or not'] = df['On-hold or not'].map(dict(yes=1, no=0))"
   ]
  },
  {
   "cell_type": "code",
   "execution_count": null,
   "metadata": {
    "ExecuteTime": {
     "end_time": "2021-01-07T09:12:58.740619Z",
     "start_time": "2021-01-07T09:12:58.644593Z"
    }
   },
   "outputs": [],
   "source": [
    "# remove special character\n",
    "df['clean_comment'] = df['SATD comment'].apply(prep.special_character_removal)"
   ]
  },
  {
   "cell_type": "code",
   "execution_count": null,
   "metadata": {
    "ExecuteTime": {
     "end_time": "2021-01-07T09:13:54.275415Z",
     "start_time": "2021-01-07T09:12:58.742217Z"
    }
   },
   "outputs": [],
   "source": [
    "# apply lemmatization\n",
    "df['clean_comment'] = df['clean_comment'].apply(prep.lemmatization)"
   ]
  },
  {
   "cell_type": "code",
   "execution_count": null,
   "metadata": {
    "ExecuteTime": {
     "end_time": "2021-01-07T09:13:54.539865Z",
     "start_time": "2021-01-07T09:13:54.277550Z"
    }
   },
   "outputs": [],
   "source": [
    "# create n-gram using ngweight\n",
    "ngweight_folder = 'path_to_ngweight/'\n",
    "n_gram = prep.create_n_gram(df['clean_comment'],df['On-hold or not'],ngweight_folder,'dataset/n_gram')"
   ]
  },
  {
   "cell_type": "code",
   "execution_count": null,
   "metadata": {
    "ExecuteTime": {
     "end_time": "2021-01-07T09:13:54.570749Z",
     "start_time": "2021-01-07T09:13:54.541651Z"
    }
   },
   "outputs": [],
   "source": [
    "df = df[['clean_comment','On-hold or not']]\n",
    "df.to_csv('dataset/clean_dataset.csv')"
   ]
  },
  {
   "cell_type": "markdown",
   "metadata": {},
   "source": [
    "## Example of ten-fold classification usage"
   ]
  },
  {
   "cell_type": "code",
   "execution_count": null,
   "metadata": {
    "ExecuteTime": {
     "end_time": "2021-01-07T09:13:55.921056Z",
     "start_time": "2021-01-07T09:13:54.572063Z"
    }
   },
   "outputs": [],
   "source": [
    "# import dataset and initialize\n",
    "\n",
    "%run ../code/classification.ipynb\n",
    "\n",
    "import pandas as pd\n",
    "\n",
    "df = pd.read_csv('dataset/clean_dataset.csv')\n",
    "classification = Classification()"
   ]
  },
  {
   "cell_type": "code",
   "execution_count": null,
   "metadata": {
    "ExecuteTime": {
     "end_time": "2021-01-07T09:13:55.925868Z",
     "start_time": "2021-01-07T09:13:55.922761Z"
    }
   },
   "outputs": [],
   "source": [
    "# load n-gram and use it as corpus\n",
    "classification.set_n_gram(\"dataset/n_gram\")"
   ]
  },
  {
   "cell_type": "code",
   "execution_count": null,
   "metadata": {
    "ExecuteTime": {
     "end_time": "2021-01-07T09:13:56.565113Z",
     "start_time": "2021-01-07T09:13:55.927619Z"
    }
   },
   "outputs": [],
   "source": [
    "# set X,y \n",
    "# convert comment into matrix of document count (corpus using n-gram)\n",
    "X = classification.vectorization(df['clean_comment'])\n",
    "y = df['On-hold or not']"
   ]
  },
  {
   "cell_type": "code",
   "execution_count": null,
   "metadata": {
    "ExecuteTime": {
     "end_time": "2021-01-07T14:56:25.271909Z",
     "start_time": "2021-01-07T09:13:56.567012Z"
    }
   },
   "outputs": [],
   "source": [
    "# 10-fold classification\n",
    "classification.ten_fold(X,y)"
   ]
  }
 ],
 "metadata": {
  "kernelspec": {
   "display_name": "Python 3",
   "language": "python",
   "name": "python3"
  },
  "language_info": {
   "codemirror_mode": {
    "name": "ipython",
    "version": 3
   },
   "file_extension": ".py",
   "mimetype": "text/x-python",
   "name": "python",
   "nbconvert_exporter": "python",
   "pygments_lexer": "ipython3",
   "version": "3.8.3"
  }
 },
 "nbformat": 4,
 "nbformat_minor": 4
}
