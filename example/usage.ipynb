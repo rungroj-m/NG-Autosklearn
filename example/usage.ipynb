{
 "cells": [
  {
   "cell_type": "markdown",
   "metadata": {},
   "source": [
    "## Example of preprocessing usage"
   ]
  },
  {
   "cell_type": "code",
   "execution_count": null,
   "metadata": {
    "ExecuteTime": {
     "end_time": "2021-01-07T06:05:37.547752Z",
     "start_time": "2021-01-07T06:04:36.577946Z"
    }
   },
   "outputs": [],
   "source": [
    "%run ../code/preprocessing.ipynb\n",
    "\n",
    "import pandas as pd\n",
    "\n",
    "df = pd.read_csv('dataset/Sample of removed SATD comments - RQ2.csv')\n",
    "prep = Preprocessing()\n",
    "\n",
    "# remove special character\n",
    "df['clean_comment'] = df['SATD comment'].apply(prep.special_character_removal)\n",
    "\n",
    "# apply lemmatization\n",
    "df['clean_comment'] = df['clean_comment'].apply(prep.lemmatization)\n",
    "df['On-hold or not'] = df['On-hold or not'].map(dict(yes=1, no=0))\n",
    "\n",
    "# create n-gram using ngweight\n",
    "n_gram = prep.create_n_gram(df['clean_comment'],df['On-hold or not'],'../../../ngweight/','dataset/n_gram')\n",
    "df = df[['clean_comment','On-hold or not']]\n",
    "df.to_csv('dataset/clean_dataset.csv')"
   ]
  },
  {
   "cell_type": "markdown",
   "metadata": {},
   "source": [
    "## Example of ten-fold classification usage"
   ]
  },
  {
   "cell_type": "code",
   "execution_count": null,
   "metadata": {
    "ExecuteTime": {
     "end_time": "2021-01-06T08:08:24.205112Z",
     "start_time": "2021-01-06T08:08:15.495894Z"
    }
   },
   "outputs": [],
   "source": [
    "%run ../code/classification.ipynb\n",
    "\n",
    "import pandas as pd\n",
    "\n",
    "df = pd.read_csv('dataset/clean_dataset.csv')\n",
    "classification = Classification()\n",
    "\n",
    "# load n-gram and use it as corpus\n",
    "classification.set_n_gram(\"dataset/n_gram\")\n",
    "\n",
    "# vectorize comment word frequency\n",
    "X = classification.vectorization(df['clean_comment'])\n",
    "y = df['On-hold or not']\n",
    "\n",
    "# 10-fold classification\n",
    "classification.ten_fold(X,y)"
   ]
  }
 ],
 "metadata": {
  "kernelspec": {
   "display_name": "Python 3",
   "language": "python",
   "name": "python3"
  },
  "language_info": {
   "codemirror_mode": {
    "name": "ipython",
    "version": 3
   },
   "file_extension": ".py",
   "mimetype": "text/x-python",
   "name": "python",
   "nbconvert_exporter": "python",
   "pygments_lexer": "ipython3",
   "version": "3.8.3"
  }
 },
 "nbformat": 4,
 "nbformat_minor": 4
}
