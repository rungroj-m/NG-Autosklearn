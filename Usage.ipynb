{
 "cells": [
  {
   "cell_type": "markdown",
   "metadata": {},
   "source": [
    "## Example of preprocessing usage"
   ]
  },
  {
   "cell_type": "code",
   "execution_count": null,
   "metadata": {
    "ExecuteTime": {
     "end_time": "2021-01-06T08:04:11.582110Z",
     "start_time": "2021-01-06T08:03:13.472569Z"
    }
   },
   "outputs": [],
   "source": [
    "%run preprocessing.ipynb\n",
    "import pandas as pd\n",
    "\n",
    "prep = Preprocessing()\n",
    "df = pd.read_csv('dataset/Sample of removed SATD comments - RQ2.csv')\n",
    "df['clean_comment'] = df['SATD comment'].apply(prep.special_character_removal)\n",
    "df['clean_comment'] = df['clean_comment'].apply(prep.lemmatization)\n",
    "df['On-hold or not'] = df['On-hold or not'].map(dict(yes=1, no=0))\n",
    "\n",
    "n_gram = prep.create_n_gram(df['clean_comment'],df['On-hold or not'],'../../ngweight/','dataset/n_gram')\n",
    "df = df[['clean_comment','On-hold or not']]\n",
    "df.to_csv('dataset/clean_dataset.csv')"
   ]
  },
  {
   "cell_type": "markdown",
   "metadata": {},
   "source": [
    "## Example of ten-fold classification usage"
   ]
  },
  {
   "cell_type": "code",
   "execution_count": null,
   "metadata": {
    "ExecuteTime": {
     "end_time": "2021-01-06T08:08:24.205112Z",
     "start_time": "2021-01-06T08:08:15.495894Z"
    }
   },
   "outputs": [],
   "source": [
    "%run binary_classification.ipynb\n",
    "\n",
    "df = pd.read_csv('dataset/clean_dataset.csv')\n",
    "classification = BinaryClassification('output')\n",
    "classification.set_n_gram(\"dataset/n_gram\")\n",
    "\n",
    "X = classification.vectorization(df['clean_comment'])\n",
    "y = df['On-hold or not']\n",
    "classification.ten_fold(X,y)"
   ]
  }
 ],
 "metadata": {
  "kernelspec": {
   "display_name": "Python 3",
   "language": "python",
   "name": "python3"
  },
  "language_info": {
   "codemirror_mode": {
    "name": "ipython",
    "version": 3
   },
   "file_extension": ".py",
   "mimetype": "text/x-python",
   "name": "python",
   "nbconvert_exporter": "python",
   "pygments_lexer": "ipython3",
   "version": "3.8.3"
  }
 },
 "nbformat": 4,
 "nbformat_minor": 4
}
